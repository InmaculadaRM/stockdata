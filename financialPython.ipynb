{
 "cells": [
  {
   "cell_type": "code",
   "execution_count": 3,
   "id": "c0d66a59",
   "metadata": {},
   "outputs": [
    {
     "name": "stderr",
     "output_type": "stream",
     "text": [
      "[*********************100%%**********************]  1 of 1 completed\n"
     ]
    },
    {
     "data": {
      "text/html": [
       "<div>\n",
       "<style scoped>\n",
       "    .dataframe tbody tr th:only-of-type {\n",
       "        vertical-align: middle;\n",
       "    }\n",
       "\n",
       "    .dataframe tbody tr th {\n",
       "        vertical-align: top;\n",
       "    }\n",
       "\n",
       "    .dataframe thead th {\n",
       "        text-align: right;\n",
       "    }\n",
       "</style>\n",
       "<table border=\"1\" class=\"dataframe\">\n",
       "  <thead>\n",
       "    <tr style=\"text-align: right;\">\n",
       "      <th></th>\n",
       "      <th>Open</th>\n",
       "      <th>High</th>\n",
       "      <th>Low</th>\n",
       "      <th>Close</th>\n",
       "      <th>Adj Close</th>\n",
       "      <th>Volume</th>\n",
       "    </tr>\n",
       "    <tr>\n",
       "      <th>Date</th>\n",
       "      <th></th>\n",
       "      <th></th>\n",
       "      <th></th>\n",
       "      <th></th>\n",
       "      <th></th>\n",
       "      <th></th>\n",
       "    </tr>\n",
       "  </thead>\n",
       "  <tbody>\n",
       "    <tr>\n",
       "      <th>2024-02-20</th>\n",
       "      <td>719.469971</td>\n",
       "      <td>719.559998</td>\n",
       "      <td>677.340027</td>\n",
       "      <td>694.520020</td>\n",
       "      <td>694.520020</td>\n",
       "      <td>70483300</td>\n",
       "    </tr>\n",
       "    <tr>\n",
       "      <th>2024-02-21</th>\n",
       "      <td>680.059998</td>\n",
       "      <td>688.880005</td>\n",
       "      <td>662.479980</td>\n",
       "      <td>674.719971</td>\n",
       "      <td>674.719971</td>\n",
       "      <td>69029800</td>\n",
       "    </tr>\n",
       "    <tr>\n",
       "      <th>2024-02-22</th>\n",
       "      <td>750.250000</td>\n",
       "      <td>785.750000</td>\n",
       "      <td>742.200012</td>\n",
       "      <td>785.380005</td>\n",
       "      <td>785.380005</td>\n",
       "      <td>86510000</td>\n",
       "    </tr>\n",
       "    <tr>\n",
       "      <th>2024-02-23</th>\n",
       "      <td>807.900024</td>\n",
       "      <td>823.940002</td>\n",
       "      <td>775.700012</td>\n",
       "      <td>788.169983</td>\n",
       "      <td>788.169983</td>\n",
       "      <td>82711200</td>\n",
       "    </tr>\n",
       "    <tr>\n",
       "      <th>2024-02-26</th>\n",
       "      <td>797.000000</td>\n",
       "      <td>806.460022</td>\n",
       "      <td>785.049988</td>\n",
       "      <td>790.919983</td>\n",
       "      <td>790.919983</td>\n",
       "      <td>50397300</td>\n",
       "    </tr>\n",
       "    <tr>\n",
       "      <th>2024-02-27</th>\n",
       "      <td>793.809998</td>\n",
       "      <td>794.799988</td>\n",
       "      <td>771.619995</td>\n",
       "      <td>787.010010</td>\n",
       "      <td>787.010010</td>\n",
       "      <td>39170500</td>\n",
       "    </tr>\n",
       "    <tr>\n",
       "      <th>2024-02-28</th>\n",
       "      <td>776.200012</td>\n",
       "      <td>789.330017</td>\n",
       "      <td>771.250000</td>\n",
       "      <td>776.630005</td>\n",
       "      <td>776.630005</td>\n",
       "      <td>39194600</td>\n",
       "    </tr>\n",
       "  </tbody>\n",
       "</table>\n",
       "</div>"
      ],
      "text/plain": [
       "                  Open        High         Low       Close   Adj Close  \\\n",
       "Date                                                                     \n",
       "2024-02-20  719.469971  719.559998  677.340027  694.520020  694.520020   \n",
       "2024-02-21  680.059998  688.880005  662.479980  674.719971  674.719971   \n",
       "2024-02-22  750.250000  785.750000  742.200012  785.380005  785.380005   \n",
       "2024-02-23  807.900024  823.940002  775.700012  788.169983  788.169983   \n",
       "2024-02-26  797.000000  806.460022  785.049988  790.919983  790.919983   \n",
       "2024-02-27  793.809998  794.799988  771.619995  787.010010  787.010010   \n",
       "2024-02-28  776.200012  789.330017  771.250000  776.630005  776.630005   \n",
       "\n",
       "              Volume  \n",
       "Date                  \n",
       "2024-02-20  70483300  \n",
       "2024-02-21  69029800  \n",
       "2024-02-22  86510000  \n",
       "2024-02-23  82711200  \n",
       "2024-02-26  50397300  \n",
       "2024-02-27  39170500  \n",
       "2024-02-28  39194600  "
      ]
     },
     "execution_count": 3,
     "metadata": {},
     "output_type": "execute_result"
    }
   ],
   "source": [
    "import datetime\n",
    "import yfinance as yf\n",
    "\n",
    "end = datetime.datetime.today()  # Get today's date dynamically\n",
    "start = end - datetime.timedelta(days=10)  # Subtract 10 days from today\n",
    "\n",
    "Nvidia = yf.download('NVDA', start=start, end=end)\n",
    "Nvidia"
   ]
  },
  {
   "cell_type": "code",
   "execution_count": 5,
   "id": "80cbc24e",
   "metadata": {},
   "outputs": [
    {
     "data": {
      "text/plain": [
       "pandas.core.frame.DataFrame"
      ]
     },
     "execution_count": 5,
     "metadata": {},
     "output_type": "execute_result"
    }
   ],
   "source": [
    "type(Nvidia)\n"
   ]
  },
  {
   "cell_type": "code",
   "execution_count": 7,
   "id": "8788c4a3",
   "metadata": {},
   "outputs": [
    {
     "name": "stdout",
     "output_type": "stream",
     "text": [
      "<class 'pandas.core.frame.DataFrame'>\n",
      "DatetimeIndex: 7 entries, 2024-02-20 to 2024-02-28\n",
      "Data columns (total 6 columns):\n",
      " #   Column     Non-Null Count  Dtype  \n",
      "---  ------     --------------  -----  \n",
      " 0   Open       7 non-null      float64\n",
      " 1   High       7 non-null      float64\n",
      " 2   Low        7 non-null      float64\n",
      " 3   Close      7 non-null      float64\n",
      " 4   Adj Close  7 non-null      float64\n",
      " 5   Volume     7 non-null      int64  \n",
      "dtypes: float64(5), int64(1)\n",
      "memory usage: 392.0 bytes\n"
     ]
    }
   ],
   "source": [
    "Nvidia.info()"
   ]
  }
 ],
 "metadata": {
  "kernelspec": {
   "display_name": "Python 3 (ipykernel)",
   "language": "python",
   "name": "python3"
  },
  "language_info": {
   "codemirror_mode": {
    "name": "ipython",
    "version": 3
   },
   "file_extension": ".py",
   "mimetype": "text/x-python",
   "name": "python",
   "nbconvert_exporter": "python",
   "pygments_lexer": "ipython3",
   "version": "3.11.4"
  }
 },
 "nbformat": 4,
 "nbformat_minor": 5
}
