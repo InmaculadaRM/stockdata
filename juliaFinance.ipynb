{
 "cells": [
  {
   "cell_type": "code",
   "execution_count": 1,
   "id": "b3170de4",
   "metadata": {},
   "outputs": [],
   "source": [
    "import DataFrames, CSV, HTTP, YFinance, Dates"
   ]
  },
  {
   "cell_type": "code",
   "execution_count": 2,
   "id": "35dc82ce",
   "metadata": {},
   "outputs": [
    {
     "data": {
      "text/html": [
       "<div><div style = \"float: left;\"><span>2×7 DataFrame</span></div><div style = \"clear: both;\"></div></div><div class = \"data-frame\" style = \"overflow-x: scroll;\"><table class = \"data-frame\" style = \"margin-bottom: 6px;\"><thead><tr class = \"header\"><th class = \"rowNumber\" style = \"font-weight: bold; text-align: right;\">Row</th><th style = \"text-align: left;\">ticker</th><th style = \"text-align: left;\">timestamp</th><th style = \"text-align: left;\">open</th><th style = \"text-align: left;\">high</th><th style = \"text-align: left;\">low</th><th style = \"text-align: left;\">close</th><th style = \"text-align: left;\">vol</th></tr><tr class = \"subheader headerLastRow\"><th class = \"rowNumber\" style = \"font-weight: bold; text-align: right;\"></th><th title = \"String\" style = \"text-align: left;\">String</th><th title = \"Dates.DateTime\" style = \"text-align: left;\">DateTime</th><th title = \"Float64\" style = \"text-align: left;\">Float64</th><th title = \"Float64\" style = \"text-align: left;\">Float64</th><th title = \"Float64\" style = \"text-align: left;\">Float64</th><th title = \"Float64\" style = \"text-align: left;\">Float64</th><th title = \"Float64\" style = \"text-align: left;\">Float64</th></tr></thead><tbody><tr><td class = \"rowNumber\" style = \"font-weight: bold; text-align: right;\">1</td><td style = \"text-align: left;\">PANW</td><td style = \"text-align: left;\">2024-02-29T14:30:00</td><td style = \"text-align: right;\">317.0</td><td style = \"text-align: right;\">320.69</td><td style = \"text-align: right;\">313.57</td><td style = \"text-align: right;\">316.3</td><td style = \"text-align: right;\">1.17352e6</td></tr><tr><td class = \"rowNumber\" style = \"font-weight: bold; text-align: right;\">2</td><td style = \"text-align: left;\">PANW</td><td style = \"text-align: left;\">2024-02-29T14:55:05</td><td style = \"text-align: right;\">316.53</td><td style = \"text-align: right;\">316.53</td><td style = \"text-align: right;\">316.53</td><td style = \"text-align: right;\">316.53</td><td style = \"text-align: right;\">0.0</td></tr></tbody></table></div>"
      ],
      "text/latex": [
       "\\begin{tabular}{r|ccccccc}\n",
       "\t& ticker & timestamp & open & high & low & close & vol\\\\\n",
       "\t\\hline\n",
       "\t& String & DateTime & Float64 & Float64 & Float64 & Float64 & Float64\\\\\n",
       "\t\\hline\n",
       "\t1 & PANW & 2024-02-29T14:30:00 & 317.0 & 320.69 & 313.57 & 316.3 & 1.17352e6 \\\\\n",
       "\t2 & PANW & 2024-02-29T14:55:05 & 316.53 & 316.53 & 316.53 & 316.53 & 0.0 \\\\\n",
       "\\end{tabular}\n"
      ],
      "text/plain": [
       "\u001b[1m2×7 DataFrame\u001b[0m\n",
       "\u001b[1m Row \u001b[0m│\u001b[1m ticker \u001b[0m\u001b[1m timestamp           \u001b[0m\u001b[1m open    \u001b[0m\u001b[1m high    \u001b[0m\u001b[1m low     \u001b[0m\u001b[1m close   \u001b[0m\u001b[1m vol   \u001b[0m ⋯\n",
       "     │\u001b[90m String \u001b[0m\u001b[90m DateTime            \u001b[0m\u001b[90m Float64 \u001b[0m\u001b[90m Float64 \u001b[0m\u001b[90m Float64 \u001b[0m\u001b[90m Float64 \u001b[0m\u001b[90m Float6\u001b[0m ⋯\n",
       "─────┼──────────────────────────────────────────────────────────────────────────\n",
       "   1 │ PANW    2024-02-29T14:30:00   317.0    320.69   313.57   316.3   1.1735 ⋯\n",
       "   2 │ PANW    2024-02-29T14:55:05   316.53   316.53   316.53   316.53  0.0\n",
       "\u001b[36m                                                                1 column omitted\u001b[0m"
      ]
     },
     "execution_count": 2,
     "metadata": {},
     "output_type": "execute_result"
    }
   ],
   "source": [
    "using YFinance, DataFrames\n",
    "\n",
    "get_prices(\"PANW\",range=\"1d\",interval=\"90m\") |> DataFrame"
   ]
  },
  {
   "cell_type": "markdown",
   "id": "da2496b7",
   "metadata": {},
   "source": [
    " Instead of range  can use the start and end dates : startdt and an enddt but we need the date in string format"
   ]
  },
  {
   "cell_type": "code",
   "execution_count": 3,
   "id": "ed44508c",
   "metadata": {},
   "outputs": [
    {
     "name": "stdout",
     "output_type": "stream",
     "text": [
      "2024-02-29\n",
      "2024-02-19\n"
     ]
    }
   ],
   "source": [
    "using Dates\n",
    "\n",
    "today = Dates.trunc(Dates.today(), Dates.Day)\n",
    "last10days = today - Dates.Day(10)\n",
    "\n",
    "println(today)\n",
    "println(last10days)"
   ]
  },
  {
   "cell_type": "code",
   "execution_count": 4,
   "id": "0fb70081",
   "metadata": {},
   "outputs": [
    {
     "data": {
      "text/plain": [
       "Date"
      ]
     },
     "execution_count": 4,
     "metadata": {},
     "output_type": "execute_result"
    }
   ],
   "source": [
    "typeof(today)"
   ]
  },
  {
   "cell_type": "markdown",
   "id": "4c68f9f2",
   "metadata": {},
   "source": [
    "The type of our variable 'today' is Date and we need to convert it to String"
   ]
  },
  {
   "cell_type": "code",
   "execution_count": 5,
   "id": "aac69f14",
   "metadata": {},
   "outputs": [
    {
     "name": "stdout",
     "output_type": "stream",
     "text": [
      "2024-02-29\n"
     ]
    },
    {
     "data": {
      "text/plain": [
       "String"
      ]
     },
     "execution_count": 5,
     "metadata": {},
     "output_type": "execute_result"
    }
   ],
   "source": [
    "hoy = Dates.format(today, \"yyyy-mm-dd\")\n",
    "hace10dias = Dates.format(last10days, \"yyyy-mm-dd\")\n",
    "println(hoy)\n",
    "typeof(hoy)"
   ]
  },
  {
   "cell_type": "code",
   "execution_count": 6,
   "id": "7101f397",
   "metadata": {},
   "outputs": [
    {
     "data": {
      "text/html": [
       "<div><div style = \"float: left;\"><span>7×8 DataFrame</span></div><div style = \"clear: both;\"></div></div><div class = \"data-frame\" style = \"overflow-x: scroll;\"><table class = \"data-frame\" style = \"margin-bottom: 6px;\"><thead><tr class = \"header\"><th class = \"rowNumber\" style = \"font-weight: bold; text-align: right;\">Row</th><th style = \"text-align: left;\">ticker</th><th style = \"text-align: left;\">timestamp</th><th style = \"text-align: left;\">open</th><th style = \"text-align: left;\">high</th><th style = \"text-align: left;\">low</th><th style = \"text-align: left;\">close</th><th style = \"text-align: left;\">adjclose</th><th style = \"text-align: left;\">vol</th></tr><tr class = \"subheader headerLastRow\"><th class = \"rowNumber\" style = \"font-weight: bold; text-align: right;\"></th><th title = \"String\" style = \"text-align: left;\">String</th><th title = \"DateTime\" style = \"text-align: left;\">DateTime</th><th title = \"Float64\" style = \"text-align: left;\">Float64</th><th title = \"Float64\" style = \"text-align: left;\">Float64</th><th title = \"Float64\" style = \"text-align: left;\">Float64</th><th title = \"Float64\" style = \"text-align: left;\">Float64</th><th title = \"Float64\" style = \"text-align: left;\">Float64</th><th title = \"Float64\" style = \"text-align: left;\">Float64</th></tr></thead><tbody><tr><td class = \"rowNumber\" style = \"font-weight: bold; text-align: right;\">1</td><td style = \"text-align: left;\">PANW</td><td style = \"text-align: left;\">2024-02-20T14:30:00</td><td style = \"text-align: right;\">362.85</td><td style = \"text-align: right;\">369.29</td><td style = \"text-align: right;\">359.82</td><td style = \"text-align: right;\">366.09</td><td style = \"text-align: right;\">366.09</td><td style = \"text-align: right;\">1.04588e7</td></tr><tr><td class = \"rowNumber\" style = \"font-weight: bold; text-align: right;\">2</td><td style = \"text-align: left;\">PANW</td><td style = \"text-align: left;\">2024-02-21T14:30:00</td><td style = \"text-align: right;\">275.2</td><td style = \"text-align: right;\">275.98</td><td style = \"text-align: right;\">260.09</td><td style = \"text-align: right;\">261.97</td><td style = \"text-align: right;\">261.97</td><td style = \"text-align: right;\">4.39373e7</td></tr><tr><td class = \"rowNumber\" style = \"font-weight: bold; text-align: right;\">3</td><td style = \"text-align: left;\">PANW</td><td style = \"text-align: left;\">2024-02-22T14:30:00</td><td style = \"text-align: right;\">274.13</td><td style = \"text-align: right;\">276.81</td><td style = \"text-align: right;\">265.0</td><td style = \"text-align: right;\">267.82</td><td style = \"text-align: right;\">267.82</td><td style = \"text-align: right;\">1.92973e7</td></tr><tr><td class = \"rowNumber\" style = \"font-weight: bold; text-align: right;\">4</td><td style = \"text-align: left;\">PANW</td><td style = \"text-align: left;\">2024-02-23T14:30:00</td><td style = \"text-align: right;\">276.95</td><td style = \"text-align: right;\">284.32</td><td style = \"text-align: right;\">271.62</td><td style = \"text-align: right;\">282.09</td><td style = \"text-align: right;\">282.09</td><td style = \"text-align: right;\">1.48783e7</td></tr><tr><td class = \"rowNumber\" style = \"font-weight: bold; text-align: right;\">5</td><td style = \"text-align: left;\">PANW</td><td style = \"text-align: left;\">2024-02-26T14:30:00</td><td style = \"text-align: right;\">288.52</td><td style = \"text-align: right;\">313.88</td><td style = \"text-align: right;\">286.79</td><td style = \"text-align: right;\">302.78</td><td style = \"text-align: right;\">302.78</td><td style = \"text-align: right;\">2.19372e7</td></tr><tr><td class = \"rowNumber\" style = \"font-weight: bold; text-align: right;\">6</td><td style = \"text-align: left;\">PANW</td><td style = \"text-align: left;\">2024-02-27T14:30:00</td><td style = \"text-align: right;\">317.4</td><td style = \"text-align: right;\">327.57</td><td style = \"text-align: right;\">307.55</td><td style = \"text-align: right;\">314.75</td><td style = \"text-align: right;\">314.75</td><td style = \"text-align: right;\">2.13543e7</td></tr><tr><td class = \"rowNumber\" style = \"font-weight: bold; text-align: right;\">7</td><td style = \"text-align: left;\">PANW</td><td style = \"text-align: left;\">2024-02-28T14:30:00</td><td style = \"text-align: right;\">311.28</td><td style = \"text-align: right;\">316.85</td><td style = \"text-align: right;\">307.81</td><td style = \"text-align: right;\">316.15</td><td style = \"text-align: right;\">316.15</td><td style = \"text-align: right;\">7.9707e6</td></tr></tbody></table></div>"
      ],
      "text/latex": [
       "\\begin{tabular}{r|cccccccc}\n",
       "\t& ticker & timestamp & open & high & low & close & adjclose & vol\\\\\n",
       "\t\\hline\n",
       "\t& String & DateTime & Float64 & Float64 & Float64 & Float64 & Float64 & Float64\\\\\n",
       "\t\\hline\n",
       "\t1 & PANW & 2024-02-20T14:30:00 & 362.85 & 369.29 & 359.82 & 366.09 & 366.09 & 1.04588e7 \\\\\n",
       "\t2 & PANW & 2024-02-21T14:30:00 & 275.2 & 275.98 & 260.09 & 261.97 & 261.97 & 4.39373e7 \\\\\n",
       "\t3 & PANW & 2024-02-22T14:30:00 & 274.13 & 276.81 & 265.0 & 267.82 & 267.82 & 1.92973e7 \\\\\n",
       "\t4 & PANW & 2024-02-23T14:30:00 & 276.95 & 284.32 & 271.62 & 282.09 & 282.09 & 1.48783e7 \\\\\n",
       "\t5 & PANW & 2024-02-26T14:30:00 & 288.52 & 313.88 & 286.79 & 302.78 & 302.78 & 2.19372e7 \\\\\n",
       "\t6 & PANW & 2024-02-27T14:30:00 & 317.4 & 327.57 & 307.55 & 314.75 & 314.75 & 2.13543e7 \\\\\n",
       "\t7 & PANW & 2024-02-28T14:30:00 & 311.28 & 316.85 & 307.81 & 316.15 & 316.15 & 7.9707e6 \\\\\n",
       "\\end{tabular}\n"
      ],
      "text/plain": [
       "\u001b[1m7×8 DataFrame\u001b[0m\n",
       "\u001b[1m Row \u001b[0m│\u001b[1m ticker \u001b[0m\u001b[1m timestamp           \u001b[0m\u001b[1m open    \u001b[0m\u001b[1m high    \u001b[0m\u001b[1m low     \u001b[0m\u001b[1m close   \u001b[0m\u001b[1m adjclo\u001b[0m ⋯\n",
       "     │\u001b[90m String \u001b[0m\u001b[90m DateTime            \u001b[0m\u001b[90m Float64 \u001b[0m\u001b[90m Float64 \u001b[0m\u001b[90m Float64 \u001b[0m\u001b[90m Float64 \u001b[0m\u001b[90m Float6\u001b[0m ⋯\n",
       "─────┼──────────────────────────────────────────────────────────────────────────\n",
       "   1 │ PANW    2024-02-20T14:30:00   362.85   369.29   359.82   366.09    366. ⋯\n",
       "   2 │ PANW    2024-02-21T14:30:00   275.2    275.98   260.09   261.97    261.\n",
       "   3 │ PANW    2024-02-22T14:30:00   274.13   276.81   265.0    267.82    267.\n",
       "   4 │ PANW    2024-02-23T14:30:00   276.95   284.32   271.62   282.09    282.\n",
       "   5 │ PANW    2024-02-26T14:30:00   288.52   313.88   286.79   302.78    302. ⋯\n",
       "   6 │ PANW    2024-02-27T14:30:00   317.4    327.57   307.55   314.75    314.\n",
       "   7 │ PANW    2024-02-28T14:30:00   311.28   316.85   307.81   316.15    316.\n",
       "\u001b[36m                                                               2 columns omitted\u001b[0m"
      ]
     },
     "execution_count": 6,
     "metadata": {},
     "output_type": "execute_result"
    }
   ],
   "source": [
    "get_prices(\"PANW\", startdt=hace10dias, enddt=hoy) |> DataFrame"
   ]
  }
 ],
 "metadata": {
  "kernelspec": {
   "display_name": "Julia 1.9.4",
   "language": "julia",
   "name": "julia-1.9"
  },
  "language_info": {
   "file_extension": ".jl",
   "mimetype": "application/julia",
   "name": "julia",
   "version": "1.9.4"
  }
 },
 "nbformat": 4,
 "nbformat_minor": 5
}
